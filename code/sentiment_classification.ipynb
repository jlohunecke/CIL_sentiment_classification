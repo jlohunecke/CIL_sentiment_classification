{
 "cells": [
  {
   "cell_type": "code",
   "execution_count": null,
   "id": "initial_id",
   "metadata": {
    "collapsed": true,
    "is_executing": true,
    "ExecuteTime": {
     "start_time": "2024-05-01T10:45:24.731795Z"
    }
   },
   "outputs": [],
   "source": [
    "import load_data as ld\n",
    "import re"
   ]
  },
  {
   "cell_type": "code",
   "execution_count": 186,
   "outputs": [
    {
     "ename": "AttributeError",
     "evalue": "module 'code' has no attribute 'load_data'",
     "output_type": "error",
     "traceback": [
      "\u001B[0;31m---------------------------------------------------------------------------\u001B[0m",
      "\u001B[0;31mAttributeError\u001B[0m                            Traceback (most recent call last)",
      "Cell \u001B[0;32mIn[186], line 1\u001B[0m\n\u001B[0;32m----> 1\u001B[0m \u001B[43mc\u001B[49m\u001B[38;5;241;43m.\u001B[39;49m\u001B[43mload_data\u001B[49m(\u001B[38;5;124m\"\u001B[39m\u001B[38;5;124mtwitter-datasets/train_neg_full.txt\u001B[39m\u001B[38;5;124m\"\u001B[39m, \u001B[38;5;124m\"\u001B[39m\u001B[38;5;124mtwitter-datasets/train_pos_full.txt\u001B[39m\u001B[38;5;124m\"\u001B[39m, \u001B[38;5;124m\"\u001B[39m\u001B[38;5;124mtwitter-datasets/test_data.txt\u001B[39m\u001B[38;5;124m\"\u001B[39m)\n",
      "\u001B[0;31mAttributeError\u001B[0m: module 'code' has no attribute 'load_data'"
     ]
    }
   ],
   "source": [
    "c.load_data(\"twitter-datasets/train_neg_full.txt\", \"twitter-datasets/train_pos_full.txt\", \"twitter-datasets/test_data.txt\")"
   ],
   "metadata": {
    "collapsed": false,
    "ExecuteTime": {
     "end_time": "2024-05-01T10:44:02.192254Z",
     "start_time": "2024-05-01T10:44:02.185212Z"
    }
   },
   "id": "52dda564a1ea894f"
  },
  {
   "cell_type": "code",
   "execution_count": 159,
   "outputs": [],
   "source": [
    "train_path_neg = \"twitter-datasets/train_neg_full.txt\"\n",
    "train_path_pos = \"twitter-datasets/train_pos_full.txt\"\n",
    "test_path = \"twitter-datasets/test_data.txt\""
   ],
   "metadata": {
    "collapsed": false,
    "ExecuteTime": {
     "end_time": "2024-05-01T09:53:05.528938Z",
     "start_time": "2024-05-01T09:53:05.524731Z"
    }
   },
   "id": "9547a8ae1d7dd5c1"
  },
  {
   "cell_type": "code",
   "execution_count": 160,
   "outputs": [],
   "source": [],
   "metadata": {
    "collapsed": false,
    "ExecuteTime": {
     "end_time": "2024-05-01T09:53:05.903274Z",
     "start_time": "2024-05-01T09:53:05.900146Z"
    }
   },
   "id": "ba51daaaec2f99fa"
  },
  {
   "cell_type": "code",
   "execution_count": 161,
   "outputs": [],
   "source": [
    "X_train, y_train, X_test = c.load_data(train_path_neg, train_path_pos, test_path)"
   ],
   "metadata": {
    "collapsed": false,
    "ExecuteTime": {
     "end_time": "2024-05-01T09:53:10.807832Z",
     "start_time": "2024-05-01T09:53:06.426348Z"
    }
   },
   "id": "5e1f756a76eceed3"
  },
  {
   "cell_type": "code",
   "execution_count": 162,
   "outputs": [
    {
     "data": {
      "text/plain": "0                          stronger without youu <url>\n1                                 <user> thanks hun xx\n2    <user> ohhh gurlll ! woop ! and i know , it's ...\n3    <user> you should see and hear me right now it...\n4    <user> i might get some made , limited run usi...\nName: tweet, dtype: object"
     },
     "execution_count": 162,
     "metadata": {},
     "output_type": "execute_result"
    }
   ],
   "source": [
    "X_train.head()"
   ],
   "metadata": {
    "collapsed": false,
    "ExecuteTime": {
     "end_time": "2024-05-01T09:53:10.811820Z",
     "start_time": "2024-05-01T09:53:10.808682Z"
    }
   },
   "id": "64a1c287e68422ca"
  },
  {
   "cell_type": "code",
   "execution_count": null,
   "outputs": [],
   "source": [
    "def preprocess_tweet(tweet):\n",
    "    return tweet"
   ],
   "metadata": {
    "collapsed": false
   },
   "id": "f2ed3ddd67c1aebd"
  },
  {
   "cell_type": "code",
   "execution_count": null,
   "outputs": [],
   "source": [
    "def preprocess_word(word):\n",
    "    word \n",
    "    return word"
   ],
   "metadata": {
    "collapsed": false
   },
   "id": "97014764dc680ca7"
  },
  {
   "cell_type": "code",
   "execution_count": 169,
   "outputs": [],
   "source": [
    "def preprocess_data(X_train, X_test):\n",
    "    \n",
    "    X_train = X_train.apply(str).apply(str.lower)\n",
    "    X_test = X_test.apply(str).apply(str.lower)\n",
    "    \n",
    "    patterns = [\n",
    "        (re.compile(r'<[^>]*>'), ' '), # HTML tags\n",
    "        (re.compile(r'([a-zA-Z])\\1{2,}'), '') # Letters more than three times in a row\n",
    "    ]\n",
    "    \n",
    "    for pattern, replacement in patterns:\n",
    "        X_train = X_train.apply(lambda x: pattern.sub(replacement, x))\n",
    "        X_test = X_test.apply(lambda x: pattern.sub(replacement, x))\n",
    "        \n",
    "    return X_train, X_test"
   ],
   "metadata": {
    "collapsed": false,
    "ExecuteTime": {
     "start_time": "2024-05-01T09:54:46.657094Z"
    }
   },
   "id": "331cf35e1cdf7343"
  },
  {
   "cell_type": "code",
   "execution_count": 170,
   "outputs": [],
   "source": [
    "X_train, X_test = preprocess_data(X_train, X_test)"
   ],
   "metadata": {
    "collapsed": false,
    "ExecuteTime": {
     "end_time": "2024-05-01T09:54:52.292783Z",
     "start_time": "2024-05-01T09:54:47.248874Z"
    }
   },
   "id": "a9db0cc827547f85"
  },
  {
   "cell_type": "code",
   "execution_count": 171,
   "outputs": [
    {
     "data": {
      "text/plain": "0                              stronger without youu  \n1                                        thanks hun xx\n2      o gur ! woop ! and i know , it's either chil...\n3      you should see and hear me right now it's ho...\n4      i might get some made , limited run using   ...\nName: tweet, dtype: object"
     },
     "execution_count": 171,
     "metadata": {},
     "output_type": "execute_result"
    }
   ],
   "source": [
    "X_train.head()"
   ],
   "metadata": {
    "collapsed": false,
    "ExecuteTime": {
     "end_time": "2024-05-01T09:54:52.295665Z",
     "start_time": "2024-05-01T09:54:52.293787Z"
    }
   },
   "id": "6267ec8d80faaff0"
  },
  {
   "cell_type": "code",
   "execution_count": null,
   "outputs": [],
   "source": [],
   "metadata": {
    "collapsed": false
   },
   "id": "c1b94db0c1251dc9"
  }
 ],
 "metadata": {
  "kernelspec": {
   "display_name": "Python 3",
   "language": "python",
   "name": "python3"
  },
  "language_info": {
   "codemirror_mode": {
    "name": "ipython",
    "version": 2
   },
   "file_extension": ".py",
   "mimetype": "text/x-python",
   "name": "python",
   "nbconvert_exporter": "python",
   "pygments_lexer": "ipython2",
   "version": "2.7.6"
  }
 },
 "nbformat": 4,
 "nbformat_minor": 5
}
