{
 "cells": [
  {
   "cell_type": "code",
   "execution_count": 1,
   "id": "initial_id",
   "metadata": {
    "collapsed": true,
    "ExecuteTime": {
     "end_time": "2024-05-02T15:38:19.316332Z",
     "start_time": "2024-05-02T15:38:18.421508Z"
    }
   },
   "outputs": [
    {
     "name": "stderr",
     "output_type": "stream",
     "text": [
      "[nltk_data] Downloading package punkt to\n",
      "[nltk_data]     /Users/jacobleooskar/nltk_data...\n",
      "[nltk_data]   Package punkt is already up-to-date!\n",
      "[nltk_data] Downloading package stopwords to\n",
      "[nltk_data]     /Users/jacobleooskar/nltk_data...\n",
      "[nltk_data]   Package stopwords is already up-to-date!\n",
      "[nltk_data] Downloading package wordnet to\n",
      "[nltk_data]     /Users/jacobleooskar/nltk_data...\n",
      "[nltk_data]   Package wordnet is already up-to-date!\n",
      "/Users/jacobleooskar/Documents/Education/ETHZ/Curriculum/Semester02/02CILab/Project/venv/lib/python3.9/site-packages/urllib3/__init__.py:35: NotOpenSSLWarning: urllib3 v2 only supports OpenSSL 1.1.1+, currently the 'ssl' module is compiled with 'LibreSSL 2.8.3'. See: https://github.com/urllib3/urllib3/issues/3020\n",
      "  warnings.warn(\n"
     ]
    }
   ],
   "source": [
    "from load_data import load_data\n",
    "from preprocess import preprocess\n",
    "from gensim.models import Word2Vec\n",
    "from baselines import NaiveBayes"
   ]
  },
  {
   "cell_type": "code",
   "execution_count": 2,
   "outputs": [],
   "source": [
    "train_path_neg = \"../twitter-datasets/train_neg_full.txt\"\n",
    "train_path_pos = \"../twitter-datasets/train_pos_full.txt\"\n",
    "test_path = \"../twitter-datasets/test_data.txt\""
   ],
   "metadata": {
    "collapsed": false,
    "ExecuteTime": {
     "end_time": "2024-05-02T15:38:19.316514Z",
     "start_time": "2024-05-02T15:38:19.311401Z"
    }
   },
   "id": "9547a8ae1d7dd5c1"
  },
  {
   "cell_type": "code",
   "execution_count": 3,
   "outputs": [],
   "source": [
    "X_train, y_train, X_val, y_val, X_test = load_data(train_path_neg, train_path_pos, test_path)"
   ],
   "metadata": {
    "collapsed": false,
    "ExecuteTime": {
     "end_time": "2024-05-02T15:38:22.945803Z",
     "start_time": "2024-05-02T15:38:19.313406Z"
    }
   },
   "id": "5e1f756a76eceed3"
  },
  {
   "cell_type": "code",
   "execution_count": 4,
   "outputs": [],
   "source": [
    "X_train_tokens, X_val_tokens, X_test_tokens = preprocess(X_train, X_val, X_test)"
   ],
   "metadata": {
    "collapsed": false,
    "ExecuteTime": {
     "end_time": "2024-05-02T15:39:23.059477Z",
     "start_time": "2024-05-02T15:38:22.946024Z"
    }
   },
   "id": "c1b94db0c1251dc9"
  },
  {
   "cell_type": "code",
   "execution_count": 5,
   "outputs": [
    {
     "data": {
      "text/plain": "0    [got, interview, next, thursday, best, thing, ...\n1                  [lunch, bosco, stick, meatbal, sub]\n2    [soo, good, look, miss, ton, ton, seeyousoon, ...\n3    [wive, mariah, carey, beyonc, kati, perri, ple...\n4                              [sleep, th, today, smh]\nName: tweet, dtype: object"
     },
     "execution_count": 5,
     "metadata": {},
     "output_type": "execute_result"
    }
   ],
   "source": [
    "X_train_tokens.head()"
   ],
   "metadata": {
    "collapsed": false,
    "ExecuteTime": {
     "end_time": "2024-05-02T15:39:23.065931Z",
     "start_time": "2024-05-02T15:39:23.062436Z"
    }
   },
   "id": "87e6956c91b7d396"
  },
  {
   "cell_type": "code",
   "execution_count": 6,
   "outputs": [],
   "source": [
    "embedder = Word2Vec(X_train_tokens, window=5, min_count=1, workers=4)"
   ],
   "metadata": {
    "collapsed": false,
    "ExecuteTime": {
     "end_time": "2024-05-02T15:39:26.731500Z",
     "start_time": "2024-05-02T15:39:23.065115Z"
    }
   },
   "id": "3bf5800b7180fc98"
  },
  {
   "cell_type": "code",
   "execution_count": 7,
   "outputs": [
    {
     "name": "stdout",
     "output_type": "stream",
     "text": [
      "[[82566 29934]\n",
      " [14964 97536]]\n",
      "              precision    recall  f1-score   support\n",
      "\n",
      "           0       0.85      0.73      0.79    112500\n",
      "           1       0.77      0.87      0.81    112500\n",
      "\n",
      "    accuracy                           0.80    225000\n",
      "   macro avg       0.81      0.80      0.80    225000\n",
      "weighted avg       0.81      0.80      0.80    225000\n",
      "\n",
      "0.8004533333333334\n"
     ]
    }
   ],
   "source": [
    "baseline_model = NaiveBayes()\n",
    "baseline_model.fit(X_train_tokens, y_train)\n",
    "baseline_model.evaluate(X_val_tokens, y_val)"
   ],
   "metadata": {
    "collapsed": false,
    "ExecuteTime": {
     "end_time": "2024-05-02T15:39:29.080015Z",
     "start_time": "2024-05-02T15:39:26.731696Z"
    }
   },
   "id": "8643eac426bd260b"
  },
  {
   "cell_type": "code",
   "execution_count": null,
   "outputs": [],
   "source": [],
   "metadata": {
    "collapsed": false
   },
   "id": "965863b725f0b0ea"
  }
 ],
 "metadata": {
  "kernelspec": {
   "display_name": "Python 3",
   "language": "python",
   "name": "python3"
  },
  "language_info": {
   "codemirror_mode": {
    "name": "ipython",
    "version": 2
   },
   "file_extension": ".py",
   "mimetype": "text/x-python",
   "name": "python",
   "nbconvert_exporter": "python",
   "pygments_lexer": "ipython2",
   "version": "2.7.6"
  }
 },
 "nbformat": 4,
 "nbformat_minor": 5
}
